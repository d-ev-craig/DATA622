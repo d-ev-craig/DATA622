================================================================================
Logistic Regression
________________________________________________________________________________
Training: 
LogisticRegression(C=5, max_iter=1000, random_state=42)
train time: 10.8s
test time:  0.0168s
accuracy:   0.932
dimensionality: 15631
density: 1.0


================================================================================
Ridge Classifier
________________________________________________________________________________
Training: 
RidgeClassifier(random_state=42, solver='sparse_cg')
train time: 3.85s
test time:  0.0199s
accuracy:   0.93
dimensionality: 15631
density: 1.0


================================================================================
kNN
________________________________________________________________________________
Training: 
KNeighborsClassifier(n_neighbors=100)
train time: 0.0169s
test time:  2.26e+02s
accuracy:   0.924

================================================================================
Random Forest
________________________________________________________________________________
Training: 
RandomForestClassifier(random_state=42)
train time: 47.5s
test time:  0.595s
accuracy:   0.922

================================================================================
Complement Naive Bayes
________________________________________________________________________________
Training: 
ComplementNB(alpha=0.1)
train time: 0.0629s
test time:  0.00504s
accuracy:   0.917

================================================================================
MLP_NNet
________________________________________________________________________________
Training: 
MLPClassifier(alpha=1e-05, hidden_layer_sizes=(5, 2), random_state=42)
train time: 30.7s
test time:  0.000602s
accuracy:   0.683

